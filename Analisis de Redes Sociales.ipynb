{
 "cells": [
  {
   "cell_type": "markdown",
   "id": "6b49d242-daad-4299-ad68-89d285691e91",
   "metadata": {},
   "source": [
    "# Librerias"
   ]
  },
  {
   "cell_type": "code",
   "execution_count": 23,
   "id": "f117a7c9-90ff-4144-a0f9-dfd527f89a30",
   "metadata": {},
   "outputs": [],
   "source": [
    "import pandas as pd \n",
    "import networkx as nx\n",
    "import matplotlib.pyplot as plt "
   ]
  },
  {
   "cell_type": "code",
   "execution_count": 25,
   "id": "e505d3a6-9784-4631-8a90-01faae2dc647",
   "metadata": {},
   "outputs": [
    {
     "data": {
      "text/html": [
       "<div>\n",
       "<style scoped>\n",
       "    .dataframe tbody tr th:only-of-type {\n",
       "        vertical-align: middle;\n",
       "    }\n",
       "\n",
       "    .dataframe tbody tr th {\n",
       "        vertical-align: top;\n",
       "    }\n",
       "\n",
       "    .dataframe thead th {\n",
       "        text-align: right;\n",
       "    }\n",
       "</style>\n",
       "<table border=\"1\" class=\"dataframe\">\n",
       "  <thead>\n",
       "    <tr style=\"text-align: right;\">\n",
       "      <th></th>\n",
       "      <th>node_1</th>\n",
       "      <th>node_2</th>\n",
       "      <th>weighted</th>\n",
       "      <th>unweighted</th>\n",
       "    </tr>\n",
       "  </thead>\n",
       "  <tbody>\n",
       "    <tr>\n",
       "      <th>0</th>\n",
       "      <td>AskThe_Donald</td>\n",
       "      <td>ShitNeoconsSay</td>\n",
       "      <td>3</td>\n",
       "      <td>0</td>\n",
       "    </tr>\n",
       "    <tr>\n",
       "      <th>1</th>\n",
       "      <td>Economics</td>\n",
       "      <td>OurPresident</td>\n",
       "      <td>33</td>\n",
       "      <td>0</td>\n",
       "    </tr>\n",
       "    <tr>\n",
       "      <th>2</th>\n",
       "      <td>europes</td>\n",
       "      <td>stupidpol</td>\n",
       "      <td>2</td>\n",
       "      <td>0</td>\n",
       "    </tr>\n",
       "    <tr>\n",
       "      <th>3</th>\n",
       "      <td>Classical_Liberals</td>\n",
       "      <td>killthosewhodisagree</td>\n",
       "      <td>2</td>\n",
       "      <td>0</td>\n",
       "    </tr>\n",
       "    <tr>\n",
       "      <th>4</th>\n",
       "      <td>Anarcho_Capitalism</td>\n",
       "      <td>IronFrontUSA</td>\n",
       "      <td>3</td>\n",
       "      <td>0</td>\n",
       "    </tr>\n",
       "    <tr>\n",
       "      <th>5</th>\n",
       "      <td>BannedFromThe_Donald</td>\n",
       "      <td>Political_Tumor</td>\n",
       "      <td>1</td>\n",
       "      <td>0</td>\n",
       "    </tr>\n",
       "    <tr>\n",
       "      <th>6</th>\n",
       "      <td>DebateAltRight</td>\n",
       "      <td>DrainTheSwamp</td>\n",
       "      <td>4</td>\n",
       "      <td>0</td>\n",
       "    </tr>\n",
       "    <tr>\n",
       "      <th>7</th>\n",
       "      <td>AnythingGoesNews</td>\n",
       "      <td>antiwar</td>\n",
       "      <td>1</td>\n",
       "      <td>0</td>\n",
       "    </tr>\n",
       "    <tr>\n",
       "      <th>8</th>\n",
       "      <td>LibDem</td>\n",
       "      <td>europes</td>\n",
       "      <td>1</td>\n",
       "      <td>0</td>\n",
       "    </tr>\n",
       "    <tr>\n",
       "      <th>9</th>\n",
       "      <td>ElizabethWarren</td>\n",
       "      <td>socialjustice101</td>\n",
       "      <td>1</td>\n",
       "      <td>0</td>\n",
       "    </tr>\n",
       "    <tr>\n",
       "      <th>10</th>\n",
       "      <td>Kossacks_for_Sanders</td>\n",
       "      <td>SandersForPresident</td>\n",
       "      <td>42</td>\n",
       "      <td>1</td>\n",
       "    </tr>\n",
       "    <tr>\n",
       "      <th>11</th>\n",
       "      <td>EnoughTrumpSpam</td>\n",
       "      <td>europeanunion</td>\n",
       "      <td>1</td>\n",
       "      <td>0</td>\n",
       "    </tr>\n",
       "    <tr>\n",
       "      <th>12</th>\n",
       "      <td>CapitalismVSocialism</td>\n",
       "      <td>DrainTheSwamp</td>\n",
       "      <td>3</td>\n",
       "      <td>0</td>\n",
       "    </tr>\n",
       "    <tr>\n",
       "      <th>13</th>\n",
       "      <td>AnythingGoesNews</td>\n",
       "      <td>neoliberal</td>\n",
       "      <td>2</td>\n",
       "      <td>0</td>\n",
       "    </tr>\n",
       "    <tr>\n",
       "      <th>14</th>\n",
       "      <td>Socialism_101</td>\n",
       "      <td>daverubin</td>\n",
       "      <td>3</td>\n",
       "      <td>0</td>\n",
       "    </tr>\n",
       "    <tr>\n",
       "      <th>15</th>\n",
       "      <td>Abortiondebate</td>\n",
       "      <td>libertarianmeme</td>\n",
       "      <td>7</td>\n",
       "      <td>0</td>\n",
       "    </tr>\n",
       "    <tr>\n",
       "      <th>16</th>\n",
       "      <td>VirginiaPolitics</td>\n",
       "      <td>realworldpolitics</td>\n",
       "      <td>1</td>\n",
       "      <td>0</td>\n",
       "    </tr>\n",
       "    <tr>\n",
       "      <th>17</th>\n",
       "      <td>Anarchy101</td>\n",
       "      <td>WayOfTheAloha</td>\n",
       "      <td>1</td>\n",
       "      <td>0</td>\n",
       "    </tr>\n",
       "    <tr>\n",
       "      <th>18</th>\n",
       "      <td>DarkEnlightenment</td>\n",
       "      <td>conspiracyfact</td>\n",
       "      <td>1</td>\n",
       "      <td>0</td>\n",
       "    </tr>\n",
       "    <tr>\n",
       "      <th>19</th>\n",
       "      <td>PoliticalVideo</td>\n",
       "      <td>economy</td>\n",
       "      <td>6</td>\n",
       "      <td>0</td>\n",
       "    </tr>\n",
       "    <tr>\n",
       "      <th>20</th>\n",
       "      <td>LateStageImperialism</td>\n",
       "      <td>accidentallycommunist</td>\n",
       "      <td>14</td>\n",
       "      <td>1</td>\n",
       "    </tr>\n",
       "    <tr>\n",
       "      <th>21</th>\n",
       "      <td>CapitalismVSocialism</td>\n",
       "      <td>dirtbagcenter</td>\n",
       "      <td>5</td>\n",
       "      <td>0</td>\n",
       "    </tr>\n",
       "    <tr>\n",
       "      <th>22</th>\n",
       "      <td>FreeSpeech</td>\n",
       "      <td>GoldandBlack</td>\n",
       "      <td>17</td>\n",
       "      <td>0</td>\n",
       "    </tr>\n",
       "    <tr>\n",
       "      <th>23</th>\n",
       "      <td>AOC</td>\n",
       "      <td>Republican</td>\n",
       "      <td>1</td>\n",
       "      <td>0</td>\n",
       "    </tr>\n",
       "    <tr>\n",
       "      <th>24</th>\n",
       "      <td>NeutralPolitics</td>\n",
       "      <td>VirginiaPolitics</td>\n",
       "      <td>4</td>\n",
       "      <td>0</td>\n",
       "    </tr>\n",
       "    <tr>\n",
       "      <th>25</th>\n",
       "      <td>PoliticalVideo</td>\n",
       "      <td>thedavidpakmanshow</td>\n",
       "      <td>4</td>\n",
       "      <td>0</td>\n",
       "    </tr>\n",
       "    <tr>\n",
       "      <th>26</th>\n",
       "      <td>Oregon_Politics</td>\n",
       "      <td>Trumpgret</td>\n",
       "      <td>1</td>\n",
       "      <td>0</td>\n",
       "    </tr>\n",
       "    <tr>\n",
       "      <th>27</th>\n",
       "      <td>AskFeminists</td>\n",
       "      <td>communism101</td>\n",
       "      <td>4</td>\n",
       "      <td>0</td>\n",
       "    </tr>\n",
       "    <tr>\n",
       "      <th>28</th>\n",
       "      <td>AskDemocrats</td>\n",
       "      <td>inthenews</td>\n",
       "      <td>1</td>\n",
       "      <td>0</td>\n",
       "    </tr>\n",
       "    <tr>\n",
       "      <th>29</th>\n",
       "      <td>Capitalism</td>\n",
       "      <td>secondamendment</td>\n",
       "      <td>1</td>\n",
       "      <td>0</td>\n",
       "    </tr>\n",
       "  </tbody>\n",
       "</table>\n",
       "</div>"
      ],
      "text/plain": [
       "                  node_1                 node_2  weighted  unweighted\n",
       "0          AskThe_Donald         ShitNeoconsSay         3           0\n",
       "1              Economics           OurPresident        33           0\n",
       "2                europes              stupidpol         2           0\n",
       "3     Classical_Liberals   killthosewhodisagree         2           0\n",
       "4     Anarcho_Capitalism           IronFrontUSA         3           0\n",
       "5   BannedFromThe_Donald        Political_Tumor         1           0\n",
       "6         DebateAltRight          DrainTheSwamp         4           0\n",
       "7       AnythingGoesNews                antiwar         1           0\n",
       "8                 LibDem                europes         1           0\n",
       "9        ElizabethWarren       socialjustice101         1           0\n",
       "10  Kossacks_for_Sanders    SandersForPresident        42           1\n",
       "11       EnoughTrumpSpam          europeanunion         1           0\n",
       "12  CapitalismVSocialism          DrainTheSwamp         3           0\n",
       "13      AnythingGoesNews             neoliberal         2           0\n",
       "14         Socialism_101              daverubin         3           0\n",
       "15        Abortiondebate        libertarianmeme         7           0\n",
       "16      VirginiaPolitics      realworldpolitics         1           0\n",
       "17            Anarchy101          WayOfTheAloha         1           0\n",
       "18     DarkEnlightenment         conspiracyfact         1           0\n",
       "19        PoliticalVideo                economy         6           0\n",
       "20  LateStageImperialism  accidentallycommunist        14           1\n",
       "21  CapitalismVSocialism          dirtbagcenter         5           0\n",
       "22            FreeSpeech           GoldandBlack        17           0\n",
       "23                   AOC             Republican         1           0\n",
       "24       NeutralPolitics       VirginiaPolitics         4           0\n",
       "25        PoliticalVideo     thedavidpakmanshow         4           0\n",
       "26       Oregon_Politics              Trumpgret         1           0\n",
       "27          AskFeminists           communism101         4           0\n",
       "28          AskDemocrats              inthenews         1           0\n",
       "29            Capitalism        secondamendment         1           0"
      ]
     },
     "execution_count": 25,
     "metadata": {},
     "output_type": "execute_result"
    }
   ],
   "source": [
    "network = pd.read_csv(\"networks_2019.csv\")\n",
    "network.head(30)"
   ]
  },
  {
   "cell_type": "markdown",
   "id": "2fd93dcd-0e90-4d4b-a40a-97042b8bcae3",
   "metadata": {},
   "source": [
    "# Construccion del Grafo No Dirigido con Peso"
   ]
  },
  {
   "cell_type": "code",
   "execution_count": 28,
   "id": "24b95cde-62fb-49bc-a1e5-dbe4ef808342",
   "metadata": {},
   "outputs": [],
   "source": [
    "G = nx.from_pandas_edgelist(network,\n",
    "                           source = 'node_1',\n",
    "                           target = 'node_2',\n",
    "                           edge_attr = 'weighted')"
   ]
  },
  {
   "cell_type": "markdown",
   "id": "d43a80f7-9cea-4cd2-a66b-62e270937c92",
   "metadata": {},
   "source": [
    "# Mostrar Datos Generados con el Grafo"
   ]
  },
  {
   "cell_type": "code",
   "execution_count": 31,
   "id": "08e88c3b-578a-4050-ac4b-9b6b50065728",
   "metadata": {},
   "outputs": [
    {
     "name": "stdout",
     "output_type": "stream",
     "text": [
      "Numero de nodos (usuarios): 416\n",
      "Numero de aristas (interacciones): 25500\n"
     ]
    }
   ],
   "source": [
    "print(f\"Numero de nodos (usuarios): {G.number_of_nodes()}\")\n",
    "print(f\"Numero de aristas (interacciones): {G.number_of_edges()}\")"
   ]
  },
  {
   "cell_type": "markdown",
   "id": "cc0d39a1-be29-4322-a427-d184245e4e64",
   "metadata": {},
   "source": [
    "# Calculo de la centralidad de grado"
   ]
  },
  {
   "cell_type": "code",
   "execution_count": 34,
   "id": "4ff8e087-13e2-46d0-849b-7ee21c8cb144",
   "metadata": {},
   "outputs": [
    {
     "name": "stdout",
     "output_type": "stream",
     "text": [
      "\n",
      " Usuarios mas centrales (por grado):\n",
      "AskThe_Donald: 0.5663\n",
      "ShitNeoconsSay: 0.1976\n",
      "Economics: 0.8241\n",
      "OurPresident: 0.5398\n",
      "europes: 0.0795\n"
     ]
    }
   ],
   "source": [
    "grado = nx.degree_centrality(G)\n",
    "top_usuarios = sorted(grado.items(),\n",
    "                     key = lambda x:[1], reverse = True)[:5]\n",
    "\n",
    "print(\"\\n Usuarios mas centrales (por grado):\")\n",
    "for usuarios, central in top_usuarios:\n",
    "    print(f\"{usuarios}: {central:.4f}\")"
   ]
  },
  {
   "cell_type": "markdown",
   "id": "512b33e1-2586-4eb0-8b59-eb3868ee01d2",
   "metadata": {},
   "source": [
    "# Extraer 5 usuarios mas centrales"
   ]
  },
  {
   "cell_type": "code",
   "execution_count": 37,
   "id": "b159a555-633a-43a4-bc4f-7b6ac472b734",
   "metadata": {},
   "outputs": [],
   "source": [
    "usuarios = [usuario for usuario, _ in top_usuarios]\n",
    "subgrafo = G.subgraph(usuarios)"
   ]
  },
  {
   "cell_type": "markdown",
   "id": "16122767-a470-4721-8de5-57c201fab0c0",
   "metadata": {},
   "source": [
    "# Visualizar Subgrafo"
   ]
  },
  {
   "cell_type": "code",
   "execution_count": 40,
   "id": "cf08cf91-6dfa-48b2-9a6c-6fcd64a7c363",
   "metadata": {},
   "outputs": [
    {
     "data": {
      "image/png": "[encoded data removed]",
      "text/plain": [
       "<Figure size 800x600 with 1 Axes>"
      ]
     },
     "metadata": {},
     "output_type": "display_data"
    }
   ],
   "source": [
    "plt.figure(figsize = (8, 6))\n",
    "pos = nx.spring_layout(subgrafo, seed = 42)\n",
    "nx.draw(subgrafo, pos, with_labels = True,\n",
    "       node_color = 'skyblue', edge_color = 'gray',\n",
    "       node_size = 1000, font_size = 10)\n",
    "plt.title(\"Subred de los 5 Usuarios mas centrales\")\n",
    "plt.axis('off')\n",
    "plt.show()"
   ]
  },
  {
   "cell_type": "markdown",
   "id": "84197f3d-6669-4c46-8e4f-cf3a2b6f5b25",
   "metadata": {},
   "source": [
    "# Detectar Componentes Conectados y Tamaño del mas Grande"
   ]
  },
  {
   "cell_type": "code",
   "execution_count": 44,
   "id": "f855804b-2c47-461c-9741-fa75f5f17182",
   "metadata": {},
   "outputs": [
    {
     "name": "stdout",
     "output_type": "stream",
     "text": [
      "\n",
      "Numero de componentes conectados: 1\n",
      "\n",
      "Tamaño de componentes mas grande: 416\n"
     ]
    }
   ],
   "source": [
    "componentes = sorted(nx.connected_components(G), key = len,\n",
    "                    reverse = True)\n",
    "print(f\"\\nNumero de componentes conectados: {len(componentes)}\")\n",
    "print(f\"\\nTamaño de componentes mas grande: {len(componentes[0])}\")"
   ]
  },
  {
   "cell_type": "markdown",
   "id": "74b248bb-0189-4967-b4dd-82b308ff22ba",
   "metadata": {},
   "source": [
    "# Calculo de la Densidad de la Red"
   ]
  },
  {
   "cell_type": "code",
   "execution_count": 49,
   "id": "a8079ef9-1f0b-4977-92c5-202f163b451b",
   "metadata": {},
   "outputs": [
    {
     "name": "stdout",
     "output_type": "stream",
     "text": [
      "Densidad de la Red: 0.2954\n"
     ]
    }
   ],
   "source": [
    "densidad = nx.density(G)\n",
    "print(f\"Densidad de la Red: {densidad:.4f}\")"
   ]
  },
  {
   "cell_type": "markdown",
   "id": "e245dd5a-c5c2-446c-be5a-09b9ecbcb09b",
   "metadata": {},
   "source": [
    "# Calcular Diametro del Componente Principal"
   ]
  },
  {
   "cell_type": "code",
   "execution_count": 55,
   "id": "d0a6a9a0-3735-404b-a4ec-32aa1330b775",
   "metadata": {},
   "outputs": [
    {
     "name": "stdout",
     "output_type": "stream",
     "text": [
      "Diametro del componente principal: 3\n"
     ]
    }
   ],
   "source": [
    "cmg = G.subgraph(componentes[0])\n",
    "diametro = nx.diameter(cmg)\n",
    "print(f\"Diametro del componente principal: {diametro}\")"
   ]
  },
  {
   "cell_type": "code",
   "execution_count": null,
   "id": "0c7acc32-2bd6-46b2-84f0-a568cb68ca00",
   "metadata": {},
   "outputs": [],
   "source": []
  }
 ],
 "metadata": {
  "kernelspec": {
   "display_name": "Python [conda env:base] *",
   "language": "python",
   "name": "conda-base-py"
  },
  "language_info": {
   "codemirror_mode": {
    "name": "ipython",
    "version": 3
   },
   "file_extension": ".py",
   "mimetype": "text/x-python",
   "name": "python",
   "nbconvert_exporter": "python",
   "pygments_lexer": "ipython3",
   "version": "3.12.7"
  }
 },
 "nbformat": 4,
 "nbformat_minor": 5
}
